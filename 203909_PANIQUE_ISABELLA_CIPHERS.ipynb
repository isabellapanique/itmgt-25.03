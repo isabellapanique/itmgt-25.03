{
 "cells": [
  {
   "cell_type": "markdown",
   "source": [
    "# Assignment: Ancient Ciphers\n",
    "\n",
    "This problem set aims to synthesize Modules 2 and 3. This means that you should be able to solve these problems using only variables, functions, conditionals, loops, and string methods. To the advanced learners out there, that means that you should not use lists, dictionaries, and libraries to solve these problems.  \n",
    "\n",
    "To be frank, with only up to loops, it is not easy to make meaningful programs. This is about the best we can do for the moment, but we promise that Python will become far more useful and fun after the departmental test."
   ],
   "metadata": {}
  },
  {
   "cell_type": "markdown",
   "source": [
    "## Problem 1\n",
    "## Caesar Cipher (6 points)\n",
    "\n",
    "A _cipher_ is a way of disguising a message by encoding it.  \n",
    "\n",
    "One of the simplest ciphers is a \"shift cipher\" known as the _Caesar cipher_. The way it works is very simple.  \n",
    "\n",
    "1. Start with a message, such as \"ATTACK AT DAWN\".\n",
    "2. Choose a number, such as 3.\n",
    "3. _Shift_ all letters in the message to the right by the chosen number. In this case, shifting all letters in \"ATTACK AT DAWN\" by 3 results in the message \"DWWDFN DW GDZQ\".\n",
    "\n",
    "**Write a function called `problem_1` that takes two positional arguments `message` and `shift`. It should apply the Caesar cipher to a message and _return_ the result.**  \n",
    "\n",
    "Example input/output:  \n",
    "`problem_1(\"ATTACK AT DAWN\", 3)` => `\"DWWDFN DW GDZQ\"`  \n",
    "`problem_1(\"MEAMORE\", 42)` => `\"CUQCEHU\"`\n",
    "\n",
    "For full credit:\n",
    "\n",
    "1. The function must ignore spaces.\n",
    "2. The function must be able to \"wrap around\" if it reaches the end of the alphabet. (e.g., shifting Z by 1 should result in A, shifting Z by 2 should result in B, etc.)\n",
    "\n",
    "For your convenience:\n",
    "1. Assume that all letters will be uppercase.\n",
    "2. Be aware of the `chr()` function. `chr()` takes an Unicode code number and returns the character associated with that number (e.g., chr(65) => \"A\").\n",
    "3. Be aware of the `ord()` function. `ord()` takes a Unicode character and returns the Unicode code associated with that character (e.g., ord(\"A\") => 65).\n",
    "4. Be aware that the Unicode codes of the uppercase English alphabet are Unicode codes 65 to 90, where 65 = A, 66 = B, ..., 90 = Z.\n",
    "5. The shift will always be a positive integer."
   ],
   "metadata": {
    "tags": []
   }
  },
  {
   "cell_type": "code",
   "execution_count": 28,
   "source": [
    "def problem_1(message,shift):\n",
    "    result = \"\"\n",
    "    for i in range(len(message)):\n",
    "        char = message[i]\n",
    "        result += chr((ord(char) + shift-65) % 26 + 65)\n",
    "    \n",
    "    return result\n",
    "\n",
    "problem_1(\"MEAMORE\",423)"
   ],
   "outputs": [
    {
     "output_type": "execute_result",
     "data": {
      "text/plain": [
       "'TLHTVYL'"
      ]
     },
     "metadata": {},
     "execution_count": 28
    }
   ],
   "metadata": {}
  },
  {
   "cell_type": "markdown",
   "source": [
    "## Problem 2\n",
    "## Scytale Cipher (8 points)\n",
    "\n",
    "Another ancient cipher (of questionable effectiveness) is the scytale-based cipher. A _scytale_ is a cylinder around which you can wrap a long strip of parchment that contained a string of apparent gibberish. The parchment, when read using the scytale, would reveal a message due to every nth letter now appearing next to each other, revealing a proper message.  \n",
    "\n",
    "Sources:  \n",
    "1. https://en.wikipedia.org/wiki/Scytale\n",
    "\n",
    "Here is the algorithm you can use to implement a scytale-style cipher:\n",
    "\n",
    "__Encoding__\n",
    "1. Take a message to be encoded and a \"shift\" number. For this example, we will use \"INFORMATION_AGE\" as the message and 3 as the shift.\n",
    "2. Check if the length of the message is a multiple of the shift. If it is not, add additional underscores to the end of the message until it is. In this example, \"INFORMATION_AGE\" is already a multiple of 3, so we will leave it alone.\n",
    "3. This is the tricky part. Construct the encoded message. For each index `i` in the encoded message, use the character at the index `(i // shift) + (len(message) // shift) * (i % shift)` of the raw message. If this number doesn't make sense, you can play around with the cipher at https://dencode.com/en/cipher/scytale to try to understand it.\n",
    "4. Return the encoded message. In this case, the output should be \"IMNNA_FTAOIGROE\".\n",
    "\n",
    "Example input/output:  \n",
    "`problem_2(\"INFORMATION_AGE\", 3)` => `\"IMNNA_FTAOIGROE\"`  \n",
    "`problem_2(\"INFORMATION_AGE\", 4)` => `\"IRIANMOGFANEOT__\"`  \n",
    "`problem_2(\"ALGORITHMS_ARE_IMPORTANT\", 8)` => `\"AOTSRIOALRH_EMRNGIMA_PTT\"`  \n",
    "\n",
    "__Write a function called `problem_2` that takes two positional arguments `message` and `shift`. It should apply this scytale-style cipher to a message and return the encoded message.__  \n",
    "\n",
    "For your convenience:  \n",
    "1. A message will only ever contain capital letters and underscores. (Underscores will be used to represent spaces.)  \n",
    "2. The shift will always be a positive integer, and it will never exceed the length of the message."
   ],
   "metadata": {}
  },
  {
   "cell_type": "code",
   "execution_count": 15,
   "source": [
    "def problem_2(message, shift):\n",
    "    \n",
    "    cipher_text = [\"\"] * shift\n",
    "    \n",
    "    for column in range(shift):\n",
    "        pointer = column\n",
    "\n",
    "        while pointer < len(message):\n",
    "            cipher_text[column] += message[pointer]\n",
    "            pointer += shift\n",
    "        \n",
    "    while len(message) % shift != 0:\n",
    "        cipher_text += \"_\"\n",
    "        break\n",
    "        \n",
    "    print(''.join(cipher_text))\n",
    "\n",
    "problem_2(\"INFORMATION_AGE\",3)"
   ],
   "outputs": [
    {
     "output_type": "stream",
     "name": "stdout",
     "text": [
      "IOAOANRTNGFMI_E\n"
     ]
    }
   ],
   "metadata": {}
  },
  {
   "cell_type": "markdown",
   "source": [
    "## Problem 3\n",
    "## Vigenere Cipher (8 points)\n",
    "\n",
    "The Caesar cipher is very easy to crack. The _Vigenere cipher_ is an extension to the Caesar cipher that makes it a little more difficult to crack. There are many variations of this cipher, but for the purposes of this exercise, this is how it works:\n",
    "\n",
    "1. Start with a message, such as \"MY MESSAGE\".\n",
    "2. Choose a keyphrase, such as \"KEY\".\n",
    "3. Repeat the keyphrase until it matches the length of the message. In this case, extend \"KEY\" to \"KEYKEYKEYK\". This should yield an implicit 1-1 mapping between letters in the message to letters in the key.\n",
    "4. Convert all letters in the key to their number values (in this particular case, A => 0, Z => 25, etc.). Shift the letters in the message to the right by the number value of the respective letter in the extended key. In this case, applying the cipher yields the encrypted message \"WC WIQCEEO\".\n",
    "\n",
    "**Write a function called `problem_3` that takes two positional arguments `message` and `key`. It should apply the Vigenere cipher to the message and return the encoded message.**  \n",
    "\n",
    "Example input/output:  \n",
    "`problem_3(\"MEAMORE\", \"VINCE\")` => `\"HMNOSMM\"`  \n",
    "`problem_3(\"FOOBAR IS FUBAR\", \"BUZZ\")` => `\"GINABL HT ETCUQ\"`\n",
    "\n",
    "For full credit:\n",
    "1. Spaces in the message count as characters and thus count as additional message length for the purposes of key extension, but they are to be ignored when applying the cipher to the message.\n",
    "\n",
    "For your convenience:\n",
    "1. You are allowed to call your Caesar cipher function.\n",
    "2. Assume that all letters will be uppercase.\n",
    "3. Assume that the key will always be the same length or shorter than the message. The key will only ever have uppercase letters (i.e., no spaces).\n",
    "4. Assume that the message will only ever consist of uppercase letters and spaces."
   ],
   "metadata": {}
  },
  {
   "cell_type": "code",
   "execution_count": 29,
   "source": [
    "def problem_3(message,key):\n",
    "    new_key = (key * len(message))[0:len(message)]\n",
    "    result = \"\"\n",
    "    for i in range(len(message)):\n",
    "        char = message[i]\n",
    "        char2 = new_key[i]\n",
    "        if ord(char) == 32:\n",
    "            result += \" \"\n",
    "        else:\n",
    "            shift = ord(char2)-65\n",
    "            result += chr((ord(char) + shift-65) % 26 + 65)\n",
    "    return result\n",
    "\n",
    "problem_3('FOOBAR IS FUBAR','BUZZ')"
   ],
   "outputs": [
    {
     "output_type": "execute_result",
     "data": {
      "text/plain": [
       "'GINABL HT ETCUQ'"
      ]
     },
     "metadata": {},
     "execution_count": 29
    }
   ],
   "metadata": {}
  },
  {
   "cell_type": "markdown",
   "source": [
    "## Problem 4\n",
    "## Scytale De-cipher (8 points)\n",
    "\n",
    "There is no brief for this number.  \n",
    "\n",
    "__Write a function called `problem_4` that takes two positional arguments `message` and `shift`. It should decipher a message that is encoded in the scytale-style cipher from Problem 2 and return the decoded message.__   \n",
    "\n",
    "Example input/output:  \n",
    "`problem_4(\"IMNNA_FTAOIGROE\", 3)` => `\"INFORMATION_AGE\"`  \n",
    "`problem_4(\"AOTSRIOALRH_EMRNGIMA_PTT\", 8)` => `\"ALGORITHMS_ARE_IMPORTANT\"`  \n",
    "`problem_4(\"IRIANMOGFANEOT__\", 4)` => `\"INFORMATION_AGE_\"`  \n",
    "\n",
    "For your convenience:\n",
    "1. Do not trim the added underscores at the end of the message."
   ],
   "metadata": {}
  },
  {
   "cell_type": "code",
   "execution_count": 17,
   "source": [
    "def problem_4(message, shift):\n",
    "    \n",
    "    cipher_text = [\"\"] * shift\n",
    "    \n",
    "    for column in range(shift):\n",
    "        pointer = column\n",
    "\n",
    "        while pointer < len(message):\n",
    "            cipher_text[column] += message[pointer]\n",
    "            pointer += shift\n",
    "        \n",
    "    while len(message) % shift != 0:\n",
    "        cipher_text += \"_\"\n",
    "        break\n",
    "        \n",
    "    return(''.join(cipher_text))\n",
    "\n",
    "problem_4(\"IRIANMOGFANEOT__\", 4)"
   ],
   "outputs": [
    {
     "output_type": "execute_result",
     "data": {
      "text/plain": [
       "'INFORMATION_AGE_'"
      ]
     },
     "metadata": {},
     "execution_count": 17
    }
   ],
   "metadata": {}
  }
 ],
 "metadata": {
  "kernelspec": {
   "name": "python3",
   "display_name": "Python 3.8.10 64-bit"
  },
  "language_info": {
   "codemirror_mode": {
    "name": "ipython",
    "version": 3
   },
   "file_extension": ".py",
   "mimetype": "text/x-python",
   "name": "python",
   "nbconvert_exporter": "python",
   "pygments_lexer": "ipython3",
   "version": "3.8.10"
  },
  "interpreter": {
   "hash": "aee8b7b246df8f9039afb4144a1f6fd8d2ca17a180786b69acc140d282b71a49"
  }
 },
 "nbformat": 4,
 "nbformat_minor": 5
}